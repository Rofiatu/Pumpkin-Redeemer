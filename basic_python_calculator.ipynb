{
  "nbformat": 4,
  "nbformat_minor": 0,
  "metadata": {
    "colab": {
      "provenance": []
    },
    "kernelspec": {
      "name": "python3",
      "display_name": "Python 3"
    },
    "language_info": {
      "name": "python"
    }
  },
  "cells": [
    {
      "cell_type": "code",
      "execution_count": null,
      "metadata": {
        "id": "g_1rV2ZfUS7u"
      },
      "outputs": [],
      "source": [
        "# building first basic calculator for basic arithmetical operations\n",
        "\n",
        "import numpy as np\n",
        "\n",
        "def calculate(a,b,c):\n",
        "  if b == \"+\":\n",
        "    return a + c\n",
        "  elif b == \"-\":\n",
        "    return a - c\n",
        "  elif b == \"*\":\n",
        "    return a * c\n",
        "  elif b == \"**\":\n",
        "    return a ** c\n",
        "  elif b == \"/\":\n",
        "    return a / c\n",
        "  elif b == \"//\":\n",
        "    return a // c\n",
        "  elif b == \"%\":\n",
        "    return a % c\n",
        "  elif b == \"sqrt\":\n",
        "    return (np.sqrt(a) + (c % c))\n",
        "  else:\n",
        "    print(\"error\")\n",
        "\n",
        "a = int(input(\"What is your first number?: \"))\n",
        "b = input(\"What operation would you like to perform today?: \")\n",
        "c = int(input(\"What is your second number?: \"))\n",
        "\n",
        "calculate(a,b,c)"
      ]
    },
    {
      "cell_type": "code",
      "source": [
        "# defining a function to do the differentiation of a problem\n",
        "\n",
        "def diff(x,a,c):\n",
        "  if c == 2:\n",
        "    return((str(c*a) + str(x)))\n",
        "  return((str(c*a) + str(x)) + \"^\" + str(c-1))\n",
        "\n",
        "x = input(\"input your variable: \")\n",
        "a = int(input(\"input coefficient of your variable: \"))\n",
        "c = int(input(\"input power of your variable: \"))\n",
        "\n",
        "diff (x,a,c)"
      ],
      "metadata": {
        "id": "fBBct3F3Uj-c"
      },
      "execution_count": null,
      "outputs": []
    },
    {
      "cell_type": "code",
      "source": [],
      "metadata": {
        "id": "rnQydgtmXb3y"
      },
      "execution_count": null,
      "outputs": []
    }
  ]
}